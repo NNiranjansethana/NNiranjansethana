{
 "cells": [
  {
   "cell_type": "code",
   "execution_count": 6,
   "id": "c2403a05",
   "metadata": {},
   "outputs": [],
   "source": [
    "my_dict={\"key\":\"value1\",\"key2\":\"value2\"}"
   ]
  },
  {
   "cell_type": "code",
   "execution_count": 7,
   "id": "7cd8c502",
   "metadata": {},
   "outputs": [
    {
     "data": {
      "text/plain": [
       "{'key': 'value1', 'key2': 'value2'}"
      ]
     },
     "execution_count": 7,
     "metadata": {},
     "output_type": "execute_result"
    }
   ],
   "source": [
    "my_dict"
   ]
  },
  {
   "cell_type": "code",
   "execution_count": 8,
   "id": "000c1dcb",
   "metadata": {},
   "outputs": [],
   "source": [
    "my_dict={\"ram\":\"25\",\"shyam\":\"22\",\"rahim\":\"26\"}"
   ]
  },
  {
   "cell_type": "code",
   "execution_count": 9,
   "id": "6b3db191",
   "metadata": {},
   "outputs": [
    {
     "data": {
      "text/plain": [
       "{'ram': '25', 'shyam': '22', 'rahim': '26'}"
      ]
     },
     "execution_count": 9,
     "metadata": {},
     "output_type": "execute_result"
    }
   ],
   "source": [
    "my_dict"
   ]
  },
  {
   "cell_type": "code",
   "execution_count": 11,
   "id": "4b72cbe7",
   "metadata": {},
   "outputs": [
    {
     "data": {
      "text/plain": [
       "'22'"
      ]
     },
     "execution_count": 11,
     "metadata": {},
     "output_type": "execute_result"
    }
   ],
   "source": [
    "my_dict['shyam']"
   ]
  },
  {
   "cell_type": "code",
   "execution_count": 13,
   "id": "1239ad77",
   "metadata": {},
   "outputs": [],
   "source": [
    "my_dict={\"Ramesh\":['18','25','26'],'Shyam':['28','35'],\"vinod\":\"78\"}"
   ]
  },
  {
   "cell_type": "code",
   "execution_count": 14,
   "id": "1acdeec7",
   "metadata": {},
   "outputs": [
    {
     "data": {
      "text/plain": [
       "{'Ramesh': ['18', '25', '26'], 'Shyam': ['28', '35'], 'vinod': '78'}"
      ]
     },
     "execution_count": 14,
     "metadata": {},
     "output_type": "execute_result"
    }
   ],
   "source": [
    "my_dict"
   ]
  },
  {
   "cell_type": "code",
   "execution_count": 16,
   "id": "ff048c70",
   "metadata": {},
   "outputs": [
    {
     "data": {
      "text/plain": [
       "['28', '35']"
      ]
     },
     "execution_count": 16,
     "metadata": {},
     "output_type": "execute_result"
    }
   ],
   "source": [
    "my_dict[\"Shyam\"]"
   ]
  },
  {
   "cell_type": "code",
   "execution_count": 18,
   "id": "115b3272",
   "metadata": {},
   "outputs": [
    {
     "data": {
      "text/plain": [
       "'28'"
      ]
     },
     "execution_count": 18,
     "metadata": {},
     "output_type": "execute_result"
    }
   ],
   "source": [
    "my_dict['Shyam'][0]"
   ]
  },
  {
   "cell_type": "code",
   "execution_count": 19,
   "id": "c06bc869",
   "metadata": {},
   "outputs": [
    {
     "data": {
      "text/plain": [
       "'25'"
      ]
     },
     "execution_count": 19,
     "metadata": {},
     "output_type": "execute_result"
    }
   ],
   "source": [
    "my_dict['Ramesh'][1]"
   ]
  },
  {
   "cell_type": "code",
   "execution_count": 40,
   "id": "7f3cff0b",
   "metadata": {},
   "outputs": [],
   "source": [
    "D= {}"
   ]
  },
  {
   "cell_type": "code",
   "execution_count": 41,
   "id": "8f6b6e9b",
   "metadata": {},
   "outputs": [],
   "source": [
    "D['animal']='dog'"
   ]
  },
  {
   "cell_type": "code",
   "execution_count": 42,
   "id": "f6e2881b",
   "metadata": {},
   "outputs": [
    {
     "data": {
      "text/plain": [
       "{'animal': 'dog'}"
      ]
     },
     "execution_count": 42,
     "metadata": {},
     "output_type": "execute_result"
    }
   ],
   "source": [
    "D"
   ]
  },
  {
   "cell_type": "code",
   "execution_count": 43,
   "id": "b1cb017f",
   "metadata": {},
   "outputs": [],
   "source": [
    "D['answer']='42'"
   ]
  },
  {
   "cell_type": "code",
   "execution_count": 44,
   "id": "c9b236fa",
   "metadata": {},
   "outputs": [
    {
     "data": {
      "text/plain": [
       "{'animal': 'dog', 'answer': '42'}"
      ]
     },
     "execution_count": 44,
     "metadata": {},
     "output_type": "execute_result"
    }
   ],
   "source": [
    "D"
   ]
  },
  {
   "cell_type": "code",
   "execution_count": 45,
   "id": "58e70398",
   "metadata": {},
   "outputs": [],
   "source": [
    "D['Love']=123"
   ]
  },
  {
   "cell_type": "code",
   "execution_count": 46,
   "id": "0f0ade61",
   "metadata": {},
   "outputs": [
    {
     "data": {
      "text/plain": [
       "{'animal': 'dog', 'answer': '42', 'Love': 123}"
      ]
     },
     "execution_count": 46,
     "metadata": {},
     "output_type": "execute_result"
    }
   ],
   "source": [
    "D"
   ]
  },
  {
   "cell_type": "code",
   "execution_count": null,
   "id": "095a01ca",
   "metadata": {},
   "outputs": [],
   "source": []
  }
 ],
 "metadata": {
  "kernelspec": {
   "display_name": "Python 3 (ipykernel)",
   "language": "python",
   "name": "python3"
  },
  "language_info": {
   "codemirror_mode": {
    "name": "ipython",
    "version": 3
   },
   "file_extension": ".py",
   "mimetype": "text/x-python",
   "name": "python",
   "nbconvert_exporter": "python",
   "pygments_lexer": "ipython3",
   "version": "3.9.7"
  }
 },
 "nbformat": 4,
 "nbformat_minor": 5
}
